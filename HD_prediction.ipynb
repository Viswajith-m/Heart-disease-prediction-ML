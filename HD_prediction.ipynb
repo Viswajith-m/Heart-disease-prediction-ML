{
  "cells": [
    {
      "cell_type": "markdown",
      "metadata": {
        "id": "view-in-github",
        "colab_type": "text"
      },
      "source": [
        "<a href=\"https://colab.research.google.com/github/Viswajith-m/Heart-disease-prediction-ML/blob/main/HD_prediction.ipynb\" target=\"_parent\"><img src=\"https://colab.research.google.com/assets/colab-badge.svg\" alt=\"Open In Colab\"/></a>"
      ]
    },
    {
      "cell_type": "markdown",
      "source": [
        "# **Problem definition:**\n",
        "  The aim of this project is to develop a machine learning model that can predict the likelihood of an individual having heart disease based on various health-related features. The model will be trained on a dataset containing information such as age, gender, cholesterol levels, blood pressure, and other relevant factors. The primary objective is to create a reliable and accurate predictive tool that can assist in early identification and intervention for individuals at risk of heart disease, ultimately contributing to improved healthcare outcomes."
      ],
      "metadata": {
        "id": "OV_RozBbw6U9"
      }
    },
    {
      "cell_type": "markdown",
      "source": [
        "<font size=\"6px\">**Installation**</font><br>\n",
        "Here we install necessary modules for our projects.\n",
        "\n",
        "1. <font size=\"5px\">**Pandas :**</font><br>\n",
        "      Pandas is a powerful data manipulation and analysis library. It will be used to load and manipulate the dataset.\n",
        "\n",
        "2.  <font size=\"5px\">**Numpy :**</font><br>\n",
        "       NumPy is a fundamental package for scientific computing with Python. It provides support for large, multi-dimensional arrays and matrices, along with mathematical functions to operate on these arrays.\n",
        "\n",
        "3.  <font size=\"5px\">**Matplotlib & Seaborn :**</font><br>\n",
        "      Matplotlib is a widely used plotting library, and Seaborn is built on top of Matplotlib, providing additional features and a higher-level interface for statistical graphics. These libraries will be used for data visualization.\n",
        "\n",
        "4.  <font size=\"5px\">**Scikit-learn :**</font><br>\n",
        "      Scikit-learn is a machine learning library that includes various tools for data preprocessing, modeling, and evaluation. It will be used for splitting the dataset, training models, and evaluating performance metrics.\n",
        "\n",
        "*In google colab most of these modules are already installed*\n"
      ],
      "metadata": {
        "id": "CXe63OuVt0yw"
      }
    },
    {
      "cell_type": "code",
      "source": [
        "!pip install pandas numpy matplotlib seaborn scikit-learn"
      ],
      "metadata": {
        "colab": {
          "base_uri": "https://localhost:8080/"
        },
        "id": "2YoQcUshsjuC",
        "outputId": "32f2fb3f-7578-40d3-ee26-749b1c96af5a"
      },
      "execution_count": 1,
      "outputs": [
        {
          "output_type": "stream",
          "name": "stdout",
          "text": [
            "Requirement already satisfied: pandas in /usr/local/lib/python3.10/dist-packages (1.5.3)\n",
            "Requirement already satisfied: numpy in /usr/local/lib/python3.10/dist-packages (1.23.5)\n",
            "Requirement already satisfied: matplotlib in /usr/local/lib/python3.10/dist-packages (3.7.1)\n",
            "Requirement already satisfied: seaborn in /usr/local/lib/python3.10/dist-packages (0.13.1)\n",
            "Requirement already satisfied: scikit-learn in /usr/local/lib/python3.10/dist-packages (1.2.2)\n",
            "Requirement already satisfied: python-dateutil>=2.8.1 in /usr/local/lib/python3.10/dist-packages (from pandas) (2.8.2)\n",
            "Requirement already satisfied: pytz>=2020.1 in /usr/local/lib/python3.10/dist-packages (from pandas) (2023.3.post1)\n",
            "Requirement already satisfied: contourpy>=1.0.1 in /usr/local/lib/python3.10/dist-packages (from matplotlib) (1.2.0)\n",
            "Requirement already satisfied: cycler>=0.10 in /usr/local/lib/python3.10/dist-packages (from matplotlib) (0.12.1)\n",
            "Requirement already satisfied: fonttools>=4.22.0 in /usr/local/lib/python3.10/dist-packages (from matplotlib) (4.47.2)\n",
            "Requirement already satisfied: kiwisolver>=1.0.1 in /usr/local/lib/python3.10/dist-packages (from matplotlib) (1.4.5)\n",
            "Requirement already satisfied: packaging>=20.0 in /usr/local/lib/python3.10/dist-packages (from matplotlib) (23.2)\n",
            "Requirement already satisfied: pillow>=6.2.0 in /usr/local/lib/python3.10/dist-packages (from matplotlib) (9.4.0)\n",
            "Requirement already satisfied: pyparsing>=2.3.1 in /usr/local/lib/python3.10/dist-packages (from matplotlib) (3.1.1)\n",
            "Requirement already satisfied: scipy>=1.3.2 in /usr/local/lib/python3.10/dist-packages (from scikit-learn) (1.11.4)\n",
            "Requirement already satisfied: joblib>=1.1.1 in /usr/local/lib/python3.10/dist-packages (from scikit-learn) (1.3.2)\n",
            "Requirement already satisfied: threadpoolctl>=2.0.0 in /usr/local/lib/python3.10/dist-packages (from scikit-learn) (3.2.0)\n",
            "Requirement already satisfied: six>=1.5 in /usr/local/lib/python3.10/dist-packages (from python-dateutil>=2.8.1->pandas) (1.16.0)\n"
          ]
        }
      ]
    },
    {
      "cell_type": "markdown",
      "source": [
        "# **Data collection**\n",
        "Here we importing all necessary package into our projects 💻"
      ],
      "metadata": {
        "id": "LnEQlpX7y3GJ"
      }
    },
    {
      "cell_type": "code",
      "source": [
        "import pandas as pd\n",
        "import numpy as np\n",
        "import matplotlib.pyplot as plt\n",
        "import seaborn as sns\n",
        "from sklearn.model_selection import train_test_split\n"
      ],
      "metadata": {
        "id": "H-img9NoyqHa"
      },
      "execution_count": 2,
      "outputs": []
    },
    {
      "cell_type": "markdown",
      "source": [
        "**Importing dataset for machine learning**"
      ],
      "metadata": {
        "id": "J8XL4PXD09XU"
      }
    },
    {
      "cell_type": "code",
      "source": [
        "dataset = \"/content/drive/MyDrive/Colab Notebooks/heart_disease_dataset.csv\"\n",
        "df = pd.read_csv(dataset)"
      ],
      "metadata": {
        "id": "KE-JE0oY0f_l"
      },
      "execution_count": 3,
      "outputs": []
    },
    {
      "cell_type": "code",
      "source": [
        "df.head()"
      ],
      "metadata": {
        "colab": {
          "base_uri": "https://localhost:8080/",
          "height": 0
        },
        "id": "vmAccPDT1Voe",
        "outputId": "94c906b9-f3c9-4cf9-f13f-417a638bb3f0"
      },
      "execution_count": 4,
      "outputs": [
        {
          "output_type": "execute_result",
          "data": {
            "text/plain": [
              "   age  sex  cp  trestbps  chol  fbs  restecg  thalach  exang  oldpeak  slope  \\\n",
              "0   52    1   0       125   212    0        1      168      0      1.0      2   \n",
              "1   53    1   0       140   203    1        0      155      1      3.1      0   \n",
              "2   70    1   0       145   174    0        1      125      1      2.6      0   \n",
              "3   61    1   0       148   203    0        1      161      0      0.0      2   \n",
              "4   62    0   0       138   294    1        1      106      0      1.9      1   \n",
              "\n",
              "   ca  thal  target  \n",
              "0   2     3       0  \n",
              "1   0     3       0  \n",
              "2   0     3       0  \n",
              "3   1     3       0  \n",
              "4   3     2       0  "
            ],
            "text/html": [
              "\n",
              "  <div id=\"df-2caea3a6-6416-4f9d-bb7d-ace89f65a455\" class=\"colab-df-container\">\n",
              "    <div>\n",
              "<style scoped>\n",
              "    .dataframe tbody tr th:only-of-type {\n",
              "        vertical-align: middle;\n",
              "    }\n",
              "\n",
              "    .dataframe tbody tr th {\n",
              "        vertical-align: top;\n",
              "    }\n",
              "\n",
              "    .dataframe thead th {\n",
              "        text-align: right;\n",
              "    }\n",
              "</style>\n",
              "<table border=\"1\" class=\"dataframe\">\n",
              "  <thead>\n",
              "    <tr style=\"text-align: right;\">\n",
              "      <th></th>\n",
              "      <th>age</th>\n",
              "      <th>sex</th>\n",
              "      <th>cp</th>\n",
              "      <th>trestbps</th>\n",
              "      <th>chol</th>\n",
              "      <th>fbs</th>\n",
              "      <th>restecg</th>\n",
              "      <th>thalach</th>\n",
              "      <th>exang</th>\n",
              "      <th>oldpeak</th>\n",
              "      <th>slope</th>\n",
              "      <th>ca</th>\n",
              "      <th>thal</th>\n",
              "      <th>target</th>\n",
              "    </tr>\n",
              "  </thead>\n",
              "  <tbody>\n",
              "    <tr>\n",
              "      <th>0</th>\n",
              "      <td>52</td>\n",
              "      <td>1</td>\n",
              "      <td>0</td>\n",
              "      <td>125</td>\n",
              "      <td>212</td>\n",
              "      <td>0</td>\n",
              "      <td>1</td>\n",
              "      <td>168</td>\n",
              "      <td>0</td>\n",
              "      <td>1.0</td>\n",
              "      <td>2</td>\n",
              "      <td>2</td>\n",
              "      <td>3</td>\n",
              "      <td>0</td>\n",
              "    </tr>\n",
              "    <tr>\n",
              "      <th>1</th>\n",
              "      <td>53</td>\n",
              "      <td>1</td>\n",
              "      <td>0</td>\n",
              "      <td>140</td>\n",
              "      <td>203</td>\n",
              "      <td>1</td>\n",
              "      <td>0</td>\n",
              "      <td>155</td>\n",
              "      <td>1</td>\n",
              "      <td>3.1</td>\n",
              "      <td>0</td>\n",
              "      <td>0</td>\n",
              "      <td>3</td>\n",
              "      <td>0</td>\n",
              "    </tr>\n",
              "    <tr>\n",
              "      <th>2</th>\n",
              "      <td>70</td>\n",
              "      <td>1</td>\n",
              "      <td>0</td>\n",
              "      <td>145</td>\n",
              "      <td>174</td>\n",
              "      <td>0</td>\n",
              "      <td>1</td>\n",
              "      <td>125</td>\n",
              "      <td>1</td>\n",
              "      <td>2.6</td>\n",
              "      <td>0</td>\n",
              "      <td>0</td>\n",
              "      <td>3</td>\n",
              "      <td>0</td>\n",
              "    </tr>\n",
              "    <tr>\n",
              "      <th>3</th>\n",
              "      <td>61</td>\n",
              "      <td>1</td>\n",
              "      <td>0</td>\n",
              "      <td>148</td>\n",
              "      <td>203</td>\n",
              "      <td>0</td>\n",
              "      <td>1</td>\n",
              "      <td>161</td>\n",
              "      <td>0</td>\n",
              "      <td>0.0</td>\n",
              "      <td>2</td>\n",
              "      <td>1</td>\n",
              "      <td>3</td>\n",
              "      <td>0</td>\n",
              "    </tr>\n",
              "    <tr>\n",
              "      <th>4</th>\n",
              "      <td>62</td>\n",
              "      <td>0</td>\n",
              "      <td>0</td>\n",
              "      <td>138</td>\n",
              "      <td>294</td>\n",
              "      <td>1</td>\n",
              "      <td>1</td>\n",
              "      <td>106</td>\n",
              "      <td>0</td>\n",
              "      <td>1.9</td>\n",
              "      <td>1</td>\n",
              "      <td>3</td>\n",
              "      <td>2</td>\n",
              "      <td>0</td>\n",
              "    </tr>\n",
              "  </tbody>\n",
              "</table>\n",
              "</div>\n",
              "    <div class=\"colab-df-buttons\">\n",
              "\n",
              "  <div class=\"colab-df-container\">\n",
              "    <button class=\"colab-df-convert\" onclick=\"convertToInteractive('df-2caea3a6-6416-4f9d-bb7d-ace89f65a455')\"\n",
              "            title=\"Convert this dataframe to an interactive table.\"\n",
              "            style=\"display:none;\">\n",
              "\n",
              "  <svg xmlns=\"http://www.w3.org/2000/svg\" height=\"24px\" viewBox=\"0 -960 960 960\">\n",
              "    <path d=\"M120-120v-720h720v720H120Zm60-500h600v-160H180v160Zm220 220h160v-160H400v160Zm0 220h160v-160H400v160ZM180-400h160v-160H180v160Zm440 0h160v-160H620v160ZM180-180h160v-160H180v160Zm440 0h160v-160H620v160Z\"/>\n",
              "  </svg>\n",
              "    </button>\n",
              "\n",
              "  <style>\n",
              "    .colab-df-container {\n",
              "      display:flex;\n",
              "      gap: 12px;\n",
              "    }\n",
              "\n",
              "    .colab-df-convert {\n",
              "      background-color: #E8F0FE;\n",
              "      border: none;\n",
              "      border-radius: 50%;\n",
              "      cursor: pointer;\n",
              "      display: none;\n",
              "      fill: #1967D2;\n",
              "      height: 32px;\n",
              "      padding: 0 0 0 0;\n",
              "      width: 32px;\n",
              "    }\n",
              "\n",
              "    .colab-df-convert:hover {\n",
              "      background-color: #E2EBFA;\n",
              "      box-shadow: 0px 1px 2px rgba(60, 64, 67, 0.3), 0px 1px 3px 1px rgba(60, 64, 67, 0.15);\n",
              "      fill: #174EA6;\n",
              "    }\n",
              "\n",
              "    .colab-df-buttons div {\n",
              "      margin-bottom: 4px;\n",
              "    }\n",
              "\n",
              "    [theme=dark] .colab-df-convert {\n",
              "      background-color: #3B4455;\n",
              "      fill: #D2E3FC;\n",
              "    }\n",
              "\n",
              "    [theme=dark] .colab-df-convert:hover {\n",
              "      background-color: #434B5C;\n",
              "      box-shadow: 0px 1px 3px 1px rgba(0, 0, 0, 0.15);\n",
              "      filter: drop-shadow(0px 1px 2px rgba(0, 0, 0, 0.3));\n",
              "      fill: #FFFFFF;\n",
              "    }\n",
              "  </style>\n",
              "\n",
              "    <script>\n",
              "      const buttonEl =\n",
              "        document.querySelector('#df-2caea3a6-6416-4f9d-bb7d-ace89f65a455 button.colab-df-convert');\n",
              "      buttonEl.style.display =\n",
              "        google.colab.kernel.accessAllowed ? 'block' : 'none';\n",
              "\n",
              "      async function convertToInteractive(key) {\n",
              "        const element = document.querySelector('#df-2caea3a6-6416-4f9d-bb7d-ace89f65a455');\n",
              "        const dataTable =\n",
              "          await google.colab.kernel.invokeFunction('convertToInteractive',\n",
              "                                                    [key], {});\n",
              "        if (!dataTable) return;\n",
              "\n",
              "        const docLinkHtml = 'Like what you see? Visit the ' +\n",
              "          '<a target=\"_blank\" href=https://colab.research.google.com/notebooks/data_table.ipynb>data table notebook</a>'\n",
              "          + ' to learn more about interactive tables.';\n",
              "        element.innerHTML = '';\n",
              "        dataTable['output_type'] = 'display_data';\n",
              "        await google.colab.output.renderOutput(dataTable, element);\n",
              "        const docLink = document.createElement('div');\n",
              "        docLink.innerHTML = docLinkHtml;\n",
              "        element.appendChild(docLink);\n",
              "      }\n",
              "    </script>\n",
              "  </div>\n",
              "\n",
              "\n",
              "<div id=\"df-dbaf4a1b-a192-4b5c-8a65-37d15b12815d\">\n",
              "  <button class=\"colab-df-quickchart\" onclick=\"quickchart('df-dbaf4a1b-a192-4b5c-8a65-37d15b12815d')\"\n",
              "            title=\"Suggest charts\"\n",
              "            style=\"display:none;\">\n",
              "\n",
              "<svg xmlns=\"http://www.w3.org/2000/svg\" height=\"24px\"viewBox=\"0 0 24 24\"\n",
              "     width=\"24px\">\n",
              "    <g>\n",
              "        <path d=\"M19 3H5c-1.1 0-2 .9-2 2v14c0 1.1.9 2 2 2h14c1.1 0 2-.9 2-2V5c0-1.1-.9-2-2-2zM9 17H7v-7h2v7zm4 0h-2V7h2v10zm4 0h-2v-4h2v4z\"/>\n",
              "    </g>\n",
              "</svg>\n",
              "  </button>\n",
              "\n",
              "<style>\n",
              "  .colab-df-quickchart {\n",
              "      --bg-color: #E8F0FE;\n",
              "      --fill-color: #1967D2;\n",
              "      --hover-bg-color: #E2EBFA;\n",
              "      --hover-fill-color: #174EA6;\n",
              "      --disabled-fill-color: #AAA;\n",
              "      --disabled-bg-color: #DDD;\n",
              "  }\n",
              "\n",
              "  [theme=dark] .colab-df-quickchart {\n",
              "      --bg-color: #3B4455;\n",
              "      --fill-color: #D2E3FC;\n",
              "      --hover-bg-color: #434B5C;\n",
              "      --hover-fill-color: #FFFFFF;\n",
              "      --disabled-bg-color: #3B4455;\n",
              "      --disabled-fill-color: #666;\n",
              "  }\n",
              "\n",
              "  .colab-df-quickchart {\n",
              "    background-color: var(--bg-color);\n",
              "    border: none;\n",
              "    border-radius: 50%;\n",
              "    cursor: pointer;\n",
              "    display: none;\n",
              "    fill: var(--fill-color);\n",
              "    height: 32px;\n",
              "    padding: 0;\n",
              "    width: 32px;\n",
              "  }\n",
              "\n",
              "  .colab-df-quickchart:hover {\n",
              "    background-color: var(--hover-bg-color);\n",
              "    box-shadow: 0 1px 2px rgba(60, 64, 67, 0.3), 0 1px 3px 1px rgba(60, 64, 67, 0.15);\n",
              "    fill: var(--button-hover-fill-color);\n",
              "  }\n",
              "\n",
              "  .colab-df-quickchart-complete:disabled,\n",
              "  .colab-df-quickchart-complete:disabled:hover {\n",
              "    background-color: var(--disabled-bg-color);\n",
              "    fill: var(--disabled-fill-color);\n",
              "    box-shadow: none;\n",
              "  }\n",
              "\n",
              "  .colab-df-spinner {\n",
              "    border: 2px solid var(--fill-color);\n",
              "    border-color: transparent;\n",
              "    border-bottom-color: var(--fill-color);\n",
              "    animation:\n",
              "      spin 1s steps(1) infinite;\n",
              "  }\n",
              "\n",
              "  @keyframes spin {\n",
              "    0% {\n",
              "      border-color: transparent;\n",
              "      border-bottom-color: var(--fill-color);\n",
              "      border-left-color: var(--fill-color);\n",
              "    }\n",
              "    20% {\n",
              "      border-color: transparent;\n",
              "      border-left-color: var(--fill-color);\n",
              "      border-top-color: var(--fill-color);\n",
              "    }\n",
              "    30% {\n",
              "      border-color: transparent;\n",
              "      border-left-color: var(--fill-color);\n",
              "      border-top-color: var(--fill-color);\n",
              "      border-right-color: var(--fill-color);\n",
              "    }\n",
              "    40% {\n",
              "      border-color: transparent;\n",
              "      border-right-color: var(--fill-color);\n",
              "      border-top-color: var(--fill-color);\n",
              "    }\n",
              "    60% {\n",
              "      border-color: transparent;\n",
              "      border-right-color: var(--fill-color);\n",
              "    }\n",
              "    80% {\n",
              "      border-color: transparent;\n",
              "      border-right-color: var(--fill-color);\n",
              "      border-bottom-color: var(--fill-color);\n",
              "    }\n",
              "    90% {\n",
              "      border-color: transparent;\n",
              "      border-bottom-color: var(--fill-color);\n",
              "    }\n",
              "  }\n",
              "</style>\n",
              "\n",
              "  <script>\n",
              "    async function quickchart(key) {\n",
              "      const quickchartButtonEl =\n",
              "        document.querySelector('#' + key + ' button');\n",
              "      quickchartButtonEl.disabled = true;  // To prevent multiple clicks.\n",
              "      quickchartButtonEl.classList.add('colab-df-spinner');\n",
              "      try {\n",
              "        const charts = await google.colab.kernel.invokeFunction(\n",
              "            'suggestCharts', [key], {});\n",
              "      } catch (error) {\n",
              "        console.error('Error during call to suggestCharts:', error);\n",
              "      }\n",
              "      quickchartButtonEl.classList.remove('colab-df-spinner');\n",
              "      quickchartButtonEl.classList.add('colab-df-quickchart-complete');\n",
              "    }\n",
              "    (() => {\n",
              "      let quickchartButtonEl =\n",
              "        document.querySelector('#df-dbaf4a1b-a192-4b5c-8a65-37d15b12815d button');\n",
              "      quickchartButtonEl.style.display =\n",
              "        google.colab.kernel.accessAllowed ? 'block' : 'none';\n",
              "    })();\n",
              "  </script>\n",
              "</div>\n",
              "\n",
              "    </div>\n",
              "  </div>\n"
            ]
          },
          "metadata": {},
          "execution_count": 4
        }
      ]
    },
    {
      "cell_type": "markdown",
      "source": [
        "# **Data visualization**\n",
        "This visualization helps us to understand the dataset."
      ],
      "metadata": {
        "id": "hZCps7XM2f-Q"
      }
    },
    {
      "cell_type": "markdown",
      "source": [
        "***Visualize the distribution of the target variable***<br>\n",
        "\n",
        "\n",
        "*   **'sns.countplot'** is a Seaborn function used to show the counts of observations in each category of a categorical variable. Here, it's used to visualize the distribution of the target variable ('target'), which indicates the presence or absence of heart disease (1 for presence, 0 for absence).\n",
        "\n",
        "*   **'plt.title'** adds a title to the plot.\n",
        "\n",
        "*   **'plt.show()'** displays the plot\n",
        "\n",
        "\n",
        "\n",
        "\n"
      ],
      "metadata": {
        "id": "6bTiyAIj430e"
      }
    },
    {
      "cell_type": "code",
      "source": [
        "sns.countplot(x='target', data=df)\n",
        "plt.title('Distribution of Heart Disease (Target)')\n",
        "plt.show()"
      ],
      "metadata": {
        "colab": {
          "base_uri": "https://localhost:8080/",
          "height": 0
        },
        "id": "hzXlg53c2Ehb",
        "outputId": "b52b1697-19f1-47fb-e2f9-a8bc3fb4b69c"
      },
      "execution_count": 5,
      "outputs": [
        {
          "output_type": "display_data",
          "data": {
            "text/plain": [
              "<Figure size 640x480 with 1 Axes>"
            ],
            "image/png": "[encoded data removed]"
          },
          "metadata": {}
        }
      ]
    },
    {
      "cell_type": "markdown",
      "source": [
        "***Visualize the distribution of age***\n",
        "\n",
        "\n",
        "*   **'plt.figure()'** sets the size of the figure to be plotted.\n",
        "*   **'sns.histplot'** is used to create a histogram of the **'age'** variable. The **'bins (intervals)'** parameter defines the number of intervals for the histogram, and **'kde=True'** adds a kernel density estimate curve to the plot.\n",
        "\n",
        "\n",
        "<font color=\"#99ccff\" size='5px'>*same applicable for below visualization*</font>\n",
        "\n"
      ],
      "metadata": {
        "id": "sX6deXsM5qQe"
      }
    },
    {
      "cell_type": "code",
      "source": [
        "plt.figure(figsize=(12, 6))\n",
        "sns.histplot(x='age', data=df, bins=20, kde=True)\n",
        "plt.title('Distribution of Age')\n",
        "plt.show()"
      ],
      "metadata": {
        "colab": {
          "base_uri": "https://localhost:8080/",
          "height": 0
        },
        "id": "nnEvpz3I2oCJ",
        "outputId": "353a0f86-8451-4914-b52b-09da33dde2b6"
      },
      "execution_count": 6,
      "outputs": [
        {
          "output_type": "display_data",
          "data": {
            "text/plain": [
              "<Figure size 1200x600 with 1 Axes>"
            ],
            "image/png": "[encoded data removed]"
          },
          "metadata": {}
        }
      ]
    },
    {
      "cell_type": "markdown",
      "source": [
        "***Visualize the distribution of cholesterol levels***"
      ],
      "metadata": {
        "id": "drGLbTTc54Ej"
      }
    },
    {
      "cell_type": "code",
      "source": [
        "plt.figure(figsize=(12, 6))\n",
        "sns.histplot(x='chol', data=df, bins=20, kde=True)\n",
        "plt.title('Distribution of Cholesterol Levels')\n",
        "plt.show()"
      ],
      "metadata": {
        "colab": {
          "base_uri": "https://localhost:8080/",
          "height": 0
        },
        "id": "oeJq0J6K2qm_",
        "outputId": "87991f81-3d28-4837-889f-5c56267a81c6"
      },
      "execution_count": 7,
      "outputs": [
        {
          "output_type": "display_data",
          "data": {
            "text/plain": [
              "<Figure size 1200x600 with 1 Axes>"
            ],
            "image/png": "[encoded data removed]"
          },
          "metadata": {}
        }
      ]
    },
    {
      "cell_type": "markdown",
      "source": [
        "**Checking whether dataset has null or empty values.**\n",
        "\n",
        "\n",
        "Null values lead to biased representation and other quality issues."
      ],
      "metadata": {
        "id": "4V_FThwj5_rw"
      }
    },
    {
      "cell_type": "code",
      "source": [
        "df.isnull().sum()"
      ],
      "metadata": {
        "colab": {
          "base_uri": "https://localhost:8080/"
        },
        "id": "oSv81uKw5uAV",
        "outputId": "f4aab5b2-dc9c-412a-a31f-3dae9ab89121"
      },
      "execution_count": 8,
      "outputs": [
        {
          "output_type": "execute_result",
          "data": {
            "text/plain": [
              "age         0\n",
              "sex         0\n",
              "cp          0\n",
              "trestbps    0\n",
              "chol        0\n",
              "fbs         0\n",
              "restecg     0\n",
              "thalach     0\n",
              "exang       0\n",
              "oldpeak     0\n",
              "slope       0\n",
              "ca          0\n",
              "thal        0\n",
              "target      0\n",
              "dtype: int64"
            ]
          },
          "metadata": {},
          "execution_count": 8
        }
      ]
    },
    {
      "cell_type": "markdown",
      "source": [
        "# **Data preprocessing:**"
      ],
      "metadata": {
        "id": "sYKyBjIG_05a"
      }
    },
    {
      "cell_type": "markdown",
      "source": [
        "**Encoding:**\n",
        "\n",
        "\n",
        "  Encoding is necessary when working with machine learning algorithms that require numerical input, as these algorithms typically operate on numerical data rather than categorical data. If you don't encode categorical variables, the model might misinterpret the categories as ordinal or introduce biases that could affect the performance of your model.\n",
        "\n",
        "**Get dummies method:**\n",
        "\n",
        "   **'pd.get_dummies()'** method is used for one-hot encoding. It creates binary columns for each category and indicates the presence of the category with a 1, and absence with a 0. This ensures that the model doesn't interpret numerical values assigned during encoding as having ordinal relationships."
      ],
      "metadata": {
        "id": "xMQjOvIl9cPZ"
      }
    },
    {
      "cell_type": "code",
      "source": [
        "\n",
        "# Encode categorical variables\n",
        "heart_data = pd.get_dummies(df, columns=['sex', 'cp', 'fbs', 'restecg', 'exang', 'slope', 'ca', 'thal'])\n",
        "\n",
        "heart_data.head()\n"
      ],
      "metadata": {
        "colab": {
          "base_uri": "https://localhost:8080/",
          "height": 0
        },
        "id": "gUG92Yyl7clq",
        "outputId": "0280e366-7bd6-42b3-fc9b-502242e08f4d"
      },
      "execution_count": 9,
      "outputs": [
        {
          "output_type": "execute_result",
          "data": {
            "text/plain": [
              "   age  trestbps  chol  thalach  oldpeak  target  sex_0  sex_1  cp_0  cp_1  \\\n",
              "0   52       125   212      168      1.0       0      0      1     1     0   \n",
              "1   53       140   203      155      3.1       0      0      1     1     0   \n",
              "2   70       145   174      125      2.6       0      0      1     1     0   \n",
              "3   61       148   203      161      0.0       0      0      1     1     0   \n",
              "4   62       138   294      106      1.9       0      1      0     1     0   \n",
              "\n",
              "   ...  slope_2  ca_0  ca_1  ca_2  ca_3  ca_4  thal_0  thal_1  thal_2  thal_3  \n",
              "0  ...        1     0     0     1     0     0       0       0       0       1  \n",
              "1  ...        0     1     0     0     0     0       0       0       0       1  \n",
              "2  ...        0     1     0     0     0     0       0       0       0       1  \n",
              "3  ...        1     0     1     0     0     0       0       0       0       1  \n",
              "4  ...        0     0     0     0     1     0       0       0       1       0  \n",
              "\n",
              "[5 rows x 31 columns]"
            ],
            "text/html": [
              "\n",
              "  <div id=\"df-17c8a74e-437d-4379-9142-74a087f873f0\" class=\"colab-df-container\">\n",
              "    <div>\n",
              "<style scoped>\n",
              "    .dataframe tbody tr th:only-of-type {\n",
              "        vertical-align: middle;\n",
              "    }\n",
              "\n",
              "    .dataframe tbody tr th {\n",
              "        vertical-align: top;\n",
              "    }\n",
              "\n",
              "    .dataframe thead th {\n",
              "        text-align: right;\n",
              "    }\n",
              "</style>\n",
              "<table border=\"1\" class=\"dataframe\">\n",
              "  <thead>\n",
              "    <tr style=\"text-align: right;\">\n",
              "      <th></th>\n",
              "      <th>age</th>\n",
              "      <th>trestbps</th>\n",
              "      <th>chol</th>\n",
              "      <th>thalach</th>\n",
              "      <th>oldpeak</th>\n",
              "      <th>target</th>\n",
              "      <th>sex_0</th>\n",
              "      <th>sex_1</th>\n",
              "      <th>cp_0</th>\n",
              "      <th>cp_1</th>\n",
              "      <th>...</th>\n",
              "      <th>slope_2</th>\n",
              "      <th>ca_0</th>\n",
              "      <th>ca_1</th>\n",
              "      <th>ca_2</th>\n",
              "      <th>ca_3</th>\n",
              "      <th>ca_4</th>\n",
              "      <th>thal_0</th>\n",
              "      <th>thal_1</th>\n",
              "      <th>thal_2</th>\n",
              "      <th>thal_3</th>\n",
              "    </tr>\n",
              "  </thead>\n",
              "  <tbody>\n",
              "    <tr>\n",
              "      <th>0</th>\n",
              "      <td>52</td>\n",
              "      <td>125</td>\n",
              "      <td>212</td>\n",
              "      <td>168</td>\n",
              "      <td>1.0</td>\n",
              "      <td>0</td>\n",
              "      <td>0</td>\n",
              "      <td>1</td>\n",
              "      <td>1</td>\n",
              "      <td>0</td>\n",
              "      <td>...</td>\n",
              "      <td>1</td>\n",
              "      <td>0</td>\n",
              "      <td>0</td>\n",
              "      <td>1</td>\n",
              "      <td>0</td>\n",
              "      <td>0</td>\n",
              "      <td>0</td>\n",
              "      <td>0</td>\n",
              "      <td>0</td>\n",
              "      <td>1</td>\n",
              "    </tr>\n",
              "    <tr>\n",
              "      <th>1</th>\n",
              "      <td>53</td>\n",
              "      <td>140</td>\n",
              "      <td>203</td>\n",
              "      <td>155</td>\n",
              "      <td>3.1</td>\n",
              "      <td>0</td>\n",
              "      <td>0</td>\n",
              "      <td>1</td>\n",
              "      <td>1</td>\n",
              "      <td>0</td>\n",
              "      <td>...</td>\n",
              "      <td>0</td>\n",
              "      <td>1</td>\n",
              "      <td>0</td>\n",
              "      <td>0</td>\n",
              "      <td>0</td>\n",
              "      <td>0</td>\n",
              "      <td>0</td>\n",
              "      <td>0</td>\n",
              "      <td>0</td>\n",
              "      <td>1</td>\n",
              "    </tr>\n",
              "    <tr>\n",
              "      <th>2</th>\n",
              "      <td>70</td>\n",
              "      <td>145</td>\n",
              "      <td>174</td>\n",
              "      <td>125</td>\n",
              "      <td>2.6</td>\n",
              "      <td>0</td>\n",
              "      <td>0</td>\n",
              "      <td>1</td>\n",
              "      <td>1</td>\n",
              "      <td>0</td>\n",
              "      <td>...</td>\n",
              "      <td>0</td>\n",
              "      <td>1</td>\n",
              "      <td>0</td>\n",
              "      <td>0</td>\n",
              "      <td>0</td>\n",
              "      <td>0</td>\n",
              "      <td>0</td>\n",
              "      <td>0</td>\n",
              "      <td>0</td>\n",
              "      <td>1</td>\n",
              "    </tr>\n",
              "    <tr>\n",
              "      <th>3</th>\n",
              "      <td>61</td>\n",
              "      <td>148</td>\n",
              "      <td>203</td>\n",
              "      <td>161</td>\n",
              "      <td>0.0</td>\n",
              "      <td>0</td>\n",
              "      <td>0</td>\n",
              "      <td>1</td>\n",
              "      <td>1</td>\n",
              "      <td>0</td>\n",
              "      <td>...</td>\n",
              "      <td>1</td>\n",
              "      <td>0</td>\n",
              "      <td>1</td>\n",
              "      <td>0</td>\n",
              "      <td>0</td>\n",
              "      <td>0</td>\n",
              "      <td>0</td>\n",
              "      <td>0</td>\n",
              "      <td>0</td>\n",
              "      <td>1</td>\n",
              "    </tr>\n",
              "    <tr>\n",
              "      <th>4</th>\n",
              "      <td>62</td>\n",
              "      <td>138</td>\n",
              "      <td>294</td>\n",
              "      <td>106</td>\n",
              "      <td>1.9</td>\n",
              "      <td>0</td>\n",
              "      <td>1</td>\n",
              "      <td>0</td>\n",
              "      <td>1</td>\n",
              "      <td>0</td>\n",
              "      <td>...</td>\n",
              "      <td>0</td>\n",
              "      <td>0</td>\n",
              "      <td>0</td>\n",
              "      <td>0</td>\n",
              "      <td>1</td>\n",
              "      <td>0</td>\n",
              "      <td>0</td>\n",
              "      <td>0</td>\n",
              "      <td>1</td>\n",
              "      <td>0</td>\n",
              "    </tr>\n",
              "  </tbody>\n",
              "</table>\n",
              "<p>5 rows × 31 columns</p>\n",
              "</div>\n",
              "    <div class=\"colab-df-buttons\">\n",
              "\n",
              "  <div class=\"colab-df-container\">\n",
              "    <button class=\"colab-df-convert\" onclick=\"convertToInteractive('df-17c8a74e-437d-4379-9142-74a087f873f0')\"\n",
              "            title=\"Convert this dataframe to an interactive table.\"\n",
              "            style=\"display:none;\">\n",
              "\n",
              "  <svg xmlns=\"http://www.w3.org/2000/svg\" height=\"24px\" viewBox=\"0 -960 960 960\">\n",
              "    <path d=\"M120-120v-720h720v720H120Zm60-500h600v-160H180v160Zm220 220h160v-160H400v160Zm0 220h160v-160H400v160ZM180-400h160v-160H180v160Zm440 0h160v-160H620v160ZM180-180h160v-160H180v160Zm440 0h160v-160H620v160Z\"/>\n",
              "  </svg>\n",
              "    </button>\n",
              "\n",
              "  <style>\n",
              "    .colab-df-container {\n",
              "      display:flex;\n",
              "      gap: 12px;\n",
              "    }\n",
              "\n",
              "    .colab-df-convert {\n",
              "      background-color: #E8F0FE;\n",
              "      border: none;\n",
              "      border-radius: 50%;\n",
              "      cursor: pointer;\n",
              "      display: none;\n",
              "      fill: #1967D2;\n",
              "      height: 32px;\n",
              "      padding: 0 0 0 0;\n",
              "      width: 32px;\n",
              "    }\n",
              "\n",
              "    .colab-df-convert:hover {\n",
              "      background-color: #E2EBFA;\n",
              "      box-shadow: 0px 1px 2px rgba(60, 64, 67, 0.3), 0px 1px 3px 1px rgba(60, 64, 67, 0.15);\n",
              "      fill: #174EA6;\n",
              "    }\n",
              "\n",
              "    .colab-df-buttons div {\n",
              "      margin-bottom: 4px;\n",
              "    }\n",
              "\n",
              "    [theme=dark] .colab-df-convert {\n",
              "      background-color: #3B4455;\n",
              "      fill: #D2E3FC;\n",
              "    }\n",
              "\n",
              "    [theme=dark] .colab-df-convert:hover {\n",
              "      background-color: #434B5C;\n",
              "      box-shadow: 0px 1px 3px 1px rgba(0, 0, 0, 0.15);\n",
              "      filter: drop-shadow(0px 1px 2px rgba(0, 0, 0, 0.3));\n",
              "      fill: #FFFFFF;\n",
              "    }\n",
              "  </style>\n",
              "\n",
              "    <script>\n",
              "      const buttonEl =\n",
              "        document.querySelector('#df-17c8a74e-437d-4379-9142-74a087f873f0 button.colab-df-convert');\n",
              "      buttonEl.style.display =\n",
              "        google.colab.kernel.accessAllowed ? 'block' : 'none';\n",
              "\n",
              "      async function convertToInteractive(key) {\n",
              "        const element = document.querySelector('#df-17c8a74e-437d-4379-9142-74a087f873f0');\n",
              "        const dataTable =\n",
              "          await google.colab.kernel.invokeFunction('convertToInteractive',\n",
              "                                                    [key], {});\n",
              "        if (!dataTable) return;\n",
              "\n",
              "        const docLinkHtml = 'Like what you see? Visit the ' +\n",
              "          '<a target=\"_blank\" href=https://colab.research.google.com/notebooks/data_table.ipynb>data table notebook</a>'\n",
              "          + ' to learn more about interactive tables.';\n",
              "        element.innerHTML = '';\n",
              "        dataTable['output_type'] = 'display_data';\n",
              "        await google.colab.output.renderOutput(dataTable, element);\n",
              "        const docLink = document.createElement('div');\n",
              "        docLink.innerHTML = docLinkHtml;\n",
              "        element.appendChild(docLink);\n",
              "      }\n",
              "    </script>\n",
              "  </div>\n",
              "\n",
              "\n",
              "<div id=\"df-d69236ee-77ca-4827-8965-b7a71fb89aae\">\n",
              "  <button class=\"colab-df-quickchart\" onclick=\"quickchart('df-d69236ee-77ca-4827-8965-b7a71fb89aae')\"\n",
              "            title=\"Suggest charts\"\n",
              "            style=\"display:none;\">\n",
              "\n",
              "<svg xmlns=\"http://www.w3.org/2000/svg\" height=\"24px\"viewBox=\"0 0 24 24\"\n",
              "     width=\"24px\">\n",
              "    <g>\n",
              "        <path d=\"M19 3H5c-1.1 0-2 .9-2 2v14c0 1.1.9 2 2 2h14c1.1 0 2-.9 2-2V5c0-1.1-.9-2-2-2zM9 17H7v-7h2v7zm4 0h-2V7h2v10zm4 0h-2v-4h2v4z\"/>\n",
              "    </g>\n",
              "</svg>\n",
              "  </button>\n",
              "\n",
              "<style>\n",
              "  .colab-df-quickchart {\n",
              "      --bg-color: #E8F0FE;\n",
              "      --fill-color: #1967D2;\n",
              "      --hover-bg-color: #E2EBFA;\n",
              "      --hover-fill-color: #174EA6;\n",
              "      --disabled-fill-color: #AAA;\n",
              "      --disabled-bg-color: #DDD;\n",
              "  }\n",
              "\n",
              "  [theme=dark] .colab-df-quickchart {\n",
              "      --bg-color: #3B4455;\n",
              "      --fill-color: #D2E3FC;\n",
              "      --hover-bg-color: #434B5C;\n",
              "      --hover-fill-color: #FFFFFF;\n",
              "      --disabled-bg-color: #3B4455;\n",
              "      --disabled-fill-color: #666;\n",
              "  }\n",
              "\n",
              "  .colab-df-quickchart {\n",
              "    background-color: var(--bg-color);\n",
              "    border: none;\n",
              "    border-radius: 50%;\n",
              "    cursor: pointer;\n",
              "    display: none;\n",
              "    fill: var(--fill-color);\n",
              "    height: 32px;\n",
              "    padding: 0;\n",
              "    width: 32px;\n",
              "  }\n",
              "\n",
              "  .colab-df-quickchart:hover {\n",
              "    background-color: var(--hover-bg-color);\n",
              "    box-shadow: 0 1px 2px rgba(60, 64, 67, 0.3), 0 1px 3px 1px rgba(60, 64, 67, 0.15);\n",
              "    fill: var(--button-hover-fill-color);\n",
              "  }\n",
              "\n",
              "  .colab-df-quickchart-complete:disabled,\n",
              "  .colab-df-quickchart-complete:disabled:hover {\n",
              "    background-color: var(--disabled-bg-color);\n",
              "    fill: var(--disabled-fill-color);\n",
              "    box-shadow: none;\n",
              "  }\n",
              "\n",
              "  .colab-df-spinner {\n",
              "    border: 2px solid var(--fill-color);\n",
              "    border-color: transparent;\n",
              "    border-bottom-color: var(--fill-color);\n",
              "    animation:\n",
              "      spin 1s steps(1) infinite;\n",
              "  }\n",
              "\n",
              "  @keyframes spin {\n",
              "    0% {\n",
              "      border-color: transparent;\n",
              "      border-bottom-color: var(--fill-color);\n",
              "      border-left-color: var(--fill-color);\n",
              "    }\n",
              "    20% {\n",
              "      border-color: transparent;\n",
              "      border-left-color: var(--fill-color);\n",
              "      border-top-color: var(--fill-color);\n",
              "    }\n",
              "    30% {\n",
              "      border-color: transparent;\n",
              "      border-left-color: var(--fill-color);\n",
              "      border-top-color: var(--fill-color);\n",
              "      border-right-color: var(--fill-color);\n",
              "    }\n",
              "    40% {\n",
              "      border-color: transparent;\n",
              "      border-right-color: var(--fill-color);\n",
              "      border-top-color: var(--fill-color);\n",
              "    }\n",
              "    60% {\n",
              "      border-color: transparent;\n",
              "      border-right-color: var(--fill-color);\n",
              "    }\n",
              "    80% {\n",
              "      border-color: transparent;\n",
              "      border-right-color: var(--fill-color);\n",
              "      border-bottom-color: var(--fill-color);\n",
              "    }\n",
              "    90% {\n",
              "      border-color: transparent;\n",
              "      border-bottom-color: var(--fill-color);\n",
              "    }\n",
              "  }\n",
              "</style>\n",
              "\n",
              "  <script>\n",
              "    async function quickchart(key) {\n",
              "      const quickchartButtonEl =\n",
              "        document.querySelector('#' + key + ' button');\n",
              "      quickchartButtonEl.disabled = true;  // To prevent multiple clicks.\n",
              "      quickchartButtonEl.classList.add('colab-df-spinner');\n",
              "      try {\n",
              "        const charts = await google.colab.kernel.invokeFunction(\n",
              "            'suggestCharts', [key], {});\n",
              "      } catch (error) {\n",
              "        console.error('Error during call to suggestCharts:', error);\n",
              "      }\n",
              "      quickchartButtonEl.classList.remove('colab-df-spinner');\n",
              "      quickchartButtonEl.classList.add('colab-df-quickchart-complete');\n",
              "    }\n",
              "    (() => {\n",
              "      let quickchartButtonEl =\n",
              "        document.querySelector('#df-d69236ee-77ca-4827-8965-b7a71fb89aae button');\n",
              "      quickchartButtonEl.style.display =\n",
              "        google.colab.kernel.accessAllowed ? 'block' : 'none';\n",
              "    })();\n",
              "  </script>\n",
              "</div>\n",
              "\n",
              "    </div>\n",
              "  </div>\n"
            ]
          },
          "metadata": {},
          "execution_count": 9
        }
      ]
    },
    {
      "cell_type": "markdown",
      "source": [
        "**Train Test split**\n",
        "\n",
        "We used train_test_split from scikit-learn to split the data into training and testing sets. This is essential to assess how well the model performs on unseen data.\n",
        "\n",
        "**'test_size'** helps us divide the usage for test & training.\n",
        "\n",
        "In the provided code, 'test_size=0.2' means that 20% of the data will be used for testing, and the remaining 80% will be used for training.\n",
        "**'random_state'** helps us to ensures reproducibility. If you use the same random seed, you'll get the same train-test split every time you run the code.\n",
        "\n",
        "\n",
        "The choice of 'random_state' can be any integer, using 42 is a convention, but you could use any other integer.\n",
        "\n",
        "<font color=\"#99ccff\">*Choice is ours, based on the dataset we can decide.*</font>"
      ],
      "metadata": {
        "id": "8k8FLDmh-34J"
      }
    },
    {
      "cell_type": "code",
      "source": [
        "X = heart_data.drop('target', axis=1)#dropping target column for machine learning.\n",
        "y = heart_data['target']\n",
        "\n",
        "# Split the data into training and testing sets\n",
        "X_train, X_test, y_train, y_test = train_test_split(X, y, test_size=0.2, random_state=42)"
      ],
      "metadata": {
        "id": "rTLvFMRn_Pcg"
      },
      "execution_count": 10,
      "outputs": []
    },
    {
      "cell_type": "markdown",
      "source": [
        "# **Machine Learning Algorithms**\n",
        "\n",
        "This following algorithms involve these following steps.\n",
        "\n",
        "▶ We import the Machine Learning algorithms from scikit-learn, along with some metrics for evaluation *(accuracy_score, confusion_matrix, classification_report)*.\n",
        "\n",
        "▶ The model is initialized *(random_state=42)*, and then trained using fit on the training data.we can use any random integer for random state, here we use 42.\n",
        "\n",
        "▶ Predictions are made on the testing data using predict.\n",
        "\n",
        "▶ Finally, we evaluate the model's performance using accuracy, confusion matrix, and a classification report."
      ],
      "metadata": {
        "id": "v_lVUdjXnfT9"
      }
    },
    {
      "cell_type": "code",
      "source": [
        "from sklearn.metrics import accuracy_score, classification_report, confusion_matrix"
      ],
      "metadata": {
        "id": "WJP9Vi9-uIXE"
      },
      "execution_count": 11,
      "outputs": []
    },
    {
      "cell_type": "markdown",
      "source": [
        "<font size=5px>Logistic Regression:</font>"
      ],
      "metadata": {
        "id": "fKWvqaIknuKt"
      }
    },
    {
      "cell_type": "code",
      "source": [
        "from sklearn.linear_model import LogisticRegression\n",
        "\n",
        "# Initialize the Logistic Regression model\n",
        "logreg_model = LogisticRegression(random_state=42)\n",
        "\n",
        "# Train the model on the training data\n",
        "logreg_model.fit(X_train, y_train)\n",
        "\n",
        "# Make predictions on the testing data\n",
        "y_pred_lr = logreg_model.predict(X_test)\n",
        "\n",
        "# Evaluate the performance of the model\n",
        "accuracy_lr = accuracy_score(y_test, y_pred_lr)\n",
        "conf_matrix_lr = confusion_matrix(y_test, y_pred_lr)\n",
        "classification_rep_lr = classification_report(y_test, y_pred_lr)\n"
      ],
      "metadata": {
        "colab": {
          "base_uri": "https://localhost:8080/"
        },
        "id": "M8rQSgkDpKoC",
        "outputId": "baabc23f-38c9-4e41-de2e-cb297b9457b2"
      },
      "execution_count": 12,
      "outputs": [
        {
          "output_type": "stream",
          "name": "stderr",
          "text": [
            "/usr/local/lib/python3.10/dist-packages/sklearn/linear_model/_logistic.py:458: ConvergenceWarning: lbfgs failed to converge (status=1):\n",
            "STOP: TOTAL NO. of ITERATIONS REACHED LIMIT.\n",
            "\n",
            "Increase the number of iterations (max_iter) or scale the data as shown in:\n",
            "    https://scikit-learn.org/stable/modules/preprocessing.html\n",
            "Please also refer to the documentation for alternative solver options:\n",
            "    https://scikit-learn.org/stable/modules/linear_model.html#logistic-regression\n",
            "  n_iter_i = _check_optimize_result(\n"
          ]
        }
      ]
    },
    {
      "cell_type": "code",
      "source": [
        "#Here comes the classification report\n",
        "print(\"\\nClassification Report:\\n\", classification_rep_lr)\n",
        "\n",
        "#Here come the accuracy\n",
        "print(f\"Accuracy: {accuracy_lr:.4f}\")"
      ],
      "metadata": {
        "colab": {
          "base_uri": "https://localhost:8080/"
        },
        "id": "F156_HvCp0Su",
        "outputId": "6c0b0e44-0eb2-441d-bbd5-c56f42fe21b2"
      },
      "execution_count": 13,
      "outputs": [
        {
          "output_type": "stream",
          "name": "stdout",
          "text": [
            "\n",
            "Classification Report:\n",
            "               precision    recall  f1-score   support\n",
            "\n",
            "           0       0.85      0.75      0.80       102\n",
            "           1       0.78      0.87      0.82       103\n",
            "\n",
            "    accuracy                           0.81       205\n",
            "   macro avg       0.81      0.81      0.81       205\n",
            "weighted avg       0.81      0.81      0.81       205\n",
            "\n",
            "Accuracy: 0.8098\n"
          ]
        }
      ]
    },
    {
      "cell_type": "code",
      "source": [
        "# Create a heatmap for the confusion matrix for better visualizing in representation\n",
        "plt.figure(figsize=(8, 6))\n",
        "sns.heatmap(conf_matrix_lr, annot=True, fmt='d', cmap='Blues', cbar=False,\n",
        "            xticklabels=['No Disease', 'Heart Disease'],\n",
        "            yticklabels=['No Disease', 'Heart Disease'])\n",
        "plt.title('Confusion Matrix')\n",
        "plt.xlabel('Predicted')\n",
        "plt.ylabel('Actual')\n",
        "plt.show()"
      ],
      "metadata": {
        "colab": {
          "base_uri": "https://localhost:8080/",
          "height": 564
        },
        "id": "QafSeY_5qEmz",
        "outputId": "820e3f87-da1d-45d9-c6cc-d492274e29a4"
      },
      "execution_count": 14,
      "outputs": [
        {
          "output_type": "display_data",
          "data": {
            "text/plain": [
              "<Figure size 800x600 with 1 Axes>"
            ],
            "image/png": "[encoded data removed]"
          },
          "metadata": {}
        }
      ]
    },
    {
      "cell_type": "markdown",
      "source": [
        "<font size=5px>Decision Tree:</font>\n"
      ],
      "metadata": {
        "id": "VsSMM3ndr9II"
      }
    },
    {
      "cell_type": "code",
      "source": [
        "from sklearn.tree import DecisionTreeClassifier\n",
        "\n",
        "# Initialize the Decision Tree model\n",
        "decision_tree_model = DecisionTreeClassifier(random_state=42)\n",
        "\n",
        "# Train the model on the training data\n",
        "decision_tree_model.fit(X_train, y_train)\n",
        "\n",
        "# Make predictions on the testing data\n",
        "y_pred_dt = decision_tree_model.predict(X_test)\n",
        "\n",
        "# Evaluate the performance of the Decision Tree model\n",
        "accuracy_dt = accuracy_score(y_test, y_pred_dt)\n",
        "conf_matrix_dt = confusion_matrix(y_test, y_pred_dt)\n",
        "classification_rep_dt = classification_report(y_test, y_pred_dt)"
      ],
      "metadata": {
        "id": "4Z3CeD_Ysl0q"
      },
      "execution_count": 15,
      "outputs": []
    },
    {
      "cell_type": "code",
      "source": [
        "# Display the results\n",
        "print(\"\\nClassification Report (Decision Tree):\\n\", classification_rep_dt)\n",
        "print(f\"Decision Tree Accuracy:{accuracy_dt:.4f}\")"
      ],
      "metadata": {
        "colab": {
          "base_uri": "https://localhost:8080/"
        },
        "id": "ncIvieLHstL9",
        "outputId": "4c043f1c-b0f1-4287-e89c-e42f69dad675"
      },
      "execution_count": 16,
      "outputs": [
        {
          "output_type": "stream",
          "name": "stdout",
          "text": [
            "\n",
            "Classification Report (Decision Tree):\n",
            "               precision    recall  f1-score   support\n",
            "\n",
            "           0       0.97      1.00      0.99       102\n",
            "           1       1.00      0.97      0.99       103\n",
            "\n",
            "    accuracy                           0.99       205\n",
            "   macro avg       0.99      0.99      0.99       205\n",
            "weighted avg       0.99      0.99      0.99       205\n",
            "\n",
            "Decision Tree Accuracy:0.9854\n"
          ]
        }
      ]
    },
    {
      "cell_type": "code",
      "source": [
        "# Create a heatmap for the confusion matrix of the Decision Tree\n",
        "plt.figure(figsize=(8, 6))\n",
        "sns.heatmap(conf_matrix_dt, annot=True, fmt='d', cmap='Blues', cbar=False,\n",
        "            xticklabels=['No Disease', 'Heart Disease'],\n",
        "            yticklabels=['No Disease', 'Heart Disease'])\n",
        "plt.title('Confusion Matrix (Decision Tree)')\n",
        "plt.xlabel('Predicted')\n",
        "plt.ylabel('Actual')\n",
        "plt.show()\n"
      ],
      "metadata": {
        "colab": {
          "base_uri": "https://localhost:8080/",
          "height": 564
        },
        "id": "PNCC__RosxP6",
        "outputId": "35c8e649-a7f1-4b66-9f80-eef63b9cb474"
      },
      "execution_count": 17,
      "outputs": [
        {
          "output_type": "display_data",
          "data": {
            "text/plain": [
              "<Figure size 800x600 with 1 Axes>"
            ],
            "image/png": "[encoded data removed]"
          },
          "metadata": {}
        }
      ]
    },
    {
      "cell_type": "markdown",
      "source": [
        "<font size=5px>Random Forest Classifier:</font>\n"
      ],
      "metadata": {
        "id": "c-6lfq-It2Fh"
      }
    },
    {
      "cell_type": "code",
      "source": [
        "from sklearn.ensemble import RandomForestClassifier\n",
        "\n",
        "# Initialize the Random Forest model\n",
        "random_forest_model = RandomForestClassifier(random_state=42)\n",
        "\n",
        "# Train the model on the training data\n",
        "random_forest_model.fit(X_train, y_train)\n",
        "\n",
        "# Make predictions on the testing data\n",
        "y_pred_rf = random_forest_model.predict(X_test)\n",
        "\n",
        "# Evaluate the performance of the Random Forest model\n",
        "accuracy_rf = accuracy_score(y_test, y_pred_rf)\n",
        "conf_matrix_rf = confusion_matrix(y_test, y_pred_rf)\n",
        "classification_rep_rf = classification_report(y_test, y_pred_rf)"
      ],
      "metadata": {
        "id": "WXqPazZFudhh"
      },
      "execution_count": 18,
      "outputs": []
    },
    {
      "cell_type": "code",
      "source": [
        "# Display the results\n",
        "print(\"\\nClassification Report (Random Forest):\\n\", classification_rep_rf)\n",
        "print(f\"Random Forest Accuracy:{accuracy_rf:.4f}\")"
      ],
      "metadata": {
        "colab": {
          "base_uri": "https://localhost:8080/"
        },
        "id": "5-xBrtgkuf0J",
        "outputId": "fbbe5d4d-26d5-4eed-93ba-0ac9a690cae7"
      },
      "execution_count": 19,
      "outputs": [
        {
          "output_type": "stream",
          "name": "stdout",
          "text": [
            "\n",
            "Classification Report (Random Forest):\n",
            "               precision    recall  f1-score   support\n",
            "\n",
            "           0       0.97      1.00      0.99       102\n",
            "           1       1.00      0.97      0.99       103\n",
            "\n",
            "    accuracy                           0.99       205\n",
            "   macro avg       0.99      0.99      0.99       205\n",
            "weighted avg       0.99      0.99      0.99       205\n",
            "\n",
            "Random Forest Accuracy:0.9854\n"
          ]
        }
      ]
    },
    {
      "cell_type": "code",
      "source": [
        "# Create a heatmap for the confusion matrix of the Random Forest\n",
        "plt.figure(figsize=(8, 6))\n",
        "sns.heatmap(conf_matrix_rf, annot=True, fmt='d', cmap='Blues', cbar=False,\n",
        "            xticklabels=['No Disease', 'Heart Disease'],\n",
        "            yticklabels=['No Disease', 'Heart Disease'])\n",
        "plt.title('Confusion Matrix (Random Forest)')\n",
        "plt.xlabel('Predicted')\n",
        "plt.ylabel('Actual')\n",
        "plt.show()"
      ],
      "metadata": {
        "colab": {
          "base_uri": "https://localhost:8080/",
          "height": 564
        },
        "id": "nwqbLmDCuh3q",
        "outputId": "eb1ce3a1-3794-4bfd-91c0-6f20a643acf6"
      },
      "execution_count": 20,
      "outputs": [
        {
          "output_type": "display_data",
          "data": {
            "text/plain": [
              "<Figure size 800x600 with 1 Axes>"
            ],
            "image/png": "[encoded data removed]"
          },
          "metadata": {}
        }
      ]
    },
    {
      "cell_type": "markdown",
      "source": [
        "<font size=5px>Support Vector Machine:</font>"
      ],
      "metadata": {
        "id": "bOy1zy9yvGDV"
      }
    },
    {
      "cell_type": "code",
      "source": [
        "from sklearn.svm import SVC\n",
        "\n",
        "# Initialize the Support Vector Machine (SVM) model\n",
        "svm_model = SVC(random_state=42)\n",
        "\n",
        "# Train the model on the training data\n",
        "svm_model.fit(X_train, y_train)\n",
        "\n",
        "# Make predictions on the testing data\n",
        "y_pred_svm = svm_model.predict(X_test)\n",
        "\n",
        "# Evaluate the performance of the SVM model\n",
        "accuracy_svm = accuracy_score(y_test, y_pred_svm)\n",
        "conf_matrix_svm = confusion_matrix(y_test, y_pred_svm)\n",
        "classification_rep_svm = classification_report(y_test, y_pred_svm)\n"
      ],
      "metadata": {
        "id": "rCEUblUtvHF8"
      },
      "execution_count": 21,
      "outputs": []
    },
    {
      "cell_type": "code",
      "source": [
        "# Display the results\n",
        "print(\"\\nClassification Report (SVM):\\n\", classification_rep_svm)\n",
        "print(f\"SVM Accuracy:{accuracy_svm:.4f}\")"
      ],
      "metadata": {
        "colab": {
          "base_uri": "https://localhost:8080/"
        },
        "id": "6lqsPRoRvKlg",
        "outputId": "1781a3fd-15a6-4347-d1b1-93b88d8e8846"
      },
      "execution_count": 22,
      "outputs": [
        {
          "output_type": "stream",
          "name": "stdout",
          "text": [
            "\n",
            "Classification Report (SVM):\n",
            "               precision    recall  f1-score   support\n",
            "\n",
            "           0       0.70      0.61      0.65       102\n",
            "           1       0.66      0.75      0.70       103\n",
            "\n",
            "    accuracy                           0.68       205\n",
            "   macro avg       0.68      0.68      0.68       205\n",
            "weighted avg       0.68      0.68      0.68       205\n",
            "\n",
            "SVM Accuracy:0.6780\n"
          ]
        }
      ]
    },
    {
      "cell_type": "code",
      "source": [
        "# Create a heatmap for the confusion matrix of the SVM\n",
        "plt.figure(figsize=(8, 6))\n",
        "sns.heatmap(conf_matrix_svm, annot=True, fmt='d', cmap='Blues', cbar=False,\n",
        "            xticklabels=['No Disease', 'Heart Disease'],\n",
        "            yticklabels=['No Disease', 'Heart Disease'])\n",
        "plt.title('Confusion Matrix (SVM)')\n",
        "plt.xlabel('Predicted')\n",
        "plt.ylabel('Actual')\n",
        "plt.show()\n"
      ],
      "metadata": {
        "colab": {
          "base_uri": "https://localhost:8080/",
          "height": 564
        },
        "id": "Kih_hXkhvM2-",
        "outputId": "221b334d-91d4-4ac3-f73a-0b9b30e5fcac"
      },
      "execution_count": 23,
      "outputs": [
        {
          "output_type": "display_data",
          "data": {
            "text/plain": [
              "<Figure size 800x600 with 1 Axes>"
            ],
            "image/png": "[encoded data removed]"
          },
          "metadata": {}
        }
      ]
    },
    {
      "cell_type": "markdown",
      "source": [
        "<font size=5px>K-NeighborsClassifier:</font>"
      ],
      "metadata": {
        "id": "7ZjhTRBcx-Ge"
      }
    },
    {
      "cell_type": "code",
      "source": [
        "from sklearn.neighbors import KNeighborsClassifier\n",
        "\n",
        "# Initialize KNN model\n",
        "knn_model = KNeighborsClassifier()\n",
        "knn_model.fit(X_train, y_train)\n",
        "\n",
        "# Make predictions on the testing data\n",
        "y_pred_knn = knn_model.predict(X_test)\n",
        "\n",
        "# Evaluate the performance of the KNN model\n",
        "accuracy_knn = accuracy_score(y_test, y_pred_knn)\n",
        "conf_matrix_knn = confusion_matrix(y_test, y_pred_knn)\n",
        "classification_rep_knn = classification_report(y_test, y_pred_knn)"
      ],
      "metadata": {
        "id": "9rUA67a1xjD1"
      },
      "execution_count": 24,
      "outputs": []
    },
    {
      "cell_type": "code",
      "source": [
        "# Display the results\n",
        "print(\"\\nClassification Report (KNN):\\n\", classification_rep_knn)\n",
        "print(f\"KNN Accuracy:{accuracy_knn:.4f}\")"
      ],
      "metadata": {
        "colab": {
          "base_uri": "https://localhost:8080/"
        },
        "id": "WEglJAcQyLcf",
        "outputId": "e3e96821-6755-4945-abce-b2171f8896c0"
      },
      "execution_count": 25,
      "outputs": [
        {
          "output_type": "stream",
          "name": "stdout",
          "text": [
            "\n",
            "Classification Report (KNN):\n",
            "               precision    recall  f1-score   support\n",
            "\n",
            "           0       0.73      0.73      0.73       102\n",
            "           1       0.73      0.74      0.73       103\n",
            "\n",
            "    accuracy                           0.73       205\n",
            "   macro avg       0.73      0.73      0.73       205\n",
            "weighted avg       0.73      0.73      0.73       205\n",
            "\n",
            "KNN Accuracy:0.7317\n"
          ]
        }
      ]
    },
    {
      "cell_type": "code",
      "source": [
        "\n",
        "# Create a heatmap for the confusion matrix of the KNN\n",
        "plt.figure(figsize=(8, 6))\n",
        "sns.heatmap(conf_matrix_knn, annot=True, fmt='d', cmap='Blues', cbar=False,\n",
        "            xticklabels=['No Disease', 'Heart Disease'],\n",
        "            yticklabels=['No Disease', 'Heart Disease'])\n",
        "plt.title('Confusion Matrix (KNN)')\n",
        "plt.xlabel('Predicted')\n",
        "plt.ylabel('Actual')\n",
        "plt.show()\n"
      ],
      "metadata": {
        "colab": {
          "base_uri": "https://localhost:8080/",
          "height": 564
        },
        "id": "C8MSw3zjyNUu",
        "outputId": "2d7ec835-9806-45e8-a0ae-384d68c312d1"
      },
      "execution_count": 26,
      "outputs": [
        {
          "output_type": "display_data",
          "data": {
            "text/plain": [
              "<Figure size 800x600 with 1 Axes>"
            ],
            "image/png": "[encoded data removed]"
          },
          "metadata": {}
        }
      ]
    },
    {
      "cell_type": "markdown",
      "source": [
        "# **Model Comparison**"
      ],
      "metadata": {
        "id": "sAMSEBpfwt91"
      }
    },
    {
      "cell_type": "markdown",
      "source": [
        "**Visualizing for Comparison**"
      ],
      "metadata": {
        "id": "oJpcV2ec1OgO"
      }
    },
    {
      "cell_type": "code",
      "source": [
        "print(f\"KNN Accuracy:{accuracy_knn:.4f}\")\n",
        "print(f\"SVM Accuracy:{accuracy_svm:.4f}\")\n",
        "print(f\"Logsitic Regression Accuracy:{accuracy_lr:.4f}\")\n",
        "print(f\"Decision Tree Accuracy:{accuracy_dt:.4f}\")\n",
        "print(f\"Random forest Accuracy:{accuracy_rf:.4f}\")"
      ],
      "metadata": {
        "colab": {
          "base_uri": "https://localhost:8080/"
        },
        "id": "gPYngeRw5vch",
        "outputId": "e8000b94-1f69-4cb8-f1ef-68159e568287"
      },
      "execution_count": 31,
      "outputs": [
        {
          "output_type": "stream",
          "name": "stdout",
          "text": [
            "KNN Accuracy:0.7317\n",
            "SVM Accuracy:0.6780\n",
            "Logsitic Regression Accuracy:0.8098\n",
            "Decision Tree Accuracy:0.9854\n",
            "Random forest Accuracy:0.9854\n"
          ]
        }
      ]
    },
    {
      "cell_type": "code",
      "source": [
        "# Create a bar chart for model accuracies\n",
        "models = ['Logistic Regression','Decision Tree', 'Random Forest', 'SVM','KNN']\n",
        "accuracies = [accuracy_lr,accuracy_dt, accuracy_rf, accuracy_svm,accuracy_knn]\n",
        "\n",
        "plt.figure(figsize=(10, 6))\n",
        "sns.barplot(x=models, y=accuracies, palette='viridis')\n",
        "plt.ylim(0, 1)  # Set y-axis limits to represent accuracy percentage\n",
        "plt.title('Comparison of Model Accuracies')\n",
        "plt.ylabel('Accuracy')\n",
        "plt.show()"
      ],
      "metadata": {
        "colab": {
          "base_uri": "https://localhost:8080/",
          "height": 652
        },
        "id": "vpvXmcVjwRSe",
        "outputId": "95b0da23-1f74-4e45-b8d7-28208a6aef35"
      },
      "execution_count": 32,
      "outputs": [
        {
          "output_type": "stream",
          "name": "stderr",
          "text": [
            "<ipython-input-32-c41876980eba>:6: FutureWarning: \n",
            "\n",
            "Passing `palette` without assigning `hue` is deprecated and will be removed in v0.14.0. Assign the `x` variable to `hue` and set `legend=False` for the same effect.\n",
            "\n",
            "  sns.barplot(x=models, y=accuracies, palette='viridis')\n"
          ]
        },
        {
          "output_type": "display_data",
          "data": {
            "text/plain": [
              "<Figure size 1000x600 with 1 Axes>"
            ],
            "image/png": "[encoded data removed]"
          },
          "metadata": {}
        }
      ]
    },
    {
      "cell_type": "markdown",
      "source": [
        "<font size=5px>Classification Evaluation Metrics</font>"
      ],
      "metadata": {
        "id": "VPlk_6_1z7tX"
      }
    },
    {
      "cell_type": "markdown",
      "source": [
        "Following metrics provide insights into how well a classification model is performing beyond just accuracy.\n",
        "\n",
        "    Accuracy = (TP + TN) / (TP + TN + FP + FN)\n",
        "\n",
        "1.   **Precision:**\n",
        "\n",
        "    *   Precision is the ratio of true positive predictions to the total predicted positives.\n",
        "\n",
        "    *   It measures the accuracy of positive predictions, indicating how many of the predicted positive instances are actually positive.   \n",
        "\n",
        "\n",
        "    Precision = TP / (TP + FP)\n",
        "\n",
        "2.   **Recall** (Sensitivity or True Positive Rate):\n",
        "\n",
        "     *   Recall is the ratio of true positive predictions to the total actual positives.\n",
        "\n",
        "     *   It measures the ability of the model to capture all positive instances, indicating how many of the actual positive instances are correctly predicted.\n",
        "\n",
        "  \n",
        "    Recall = TP / (TP + FN)\n",
        "\n",
        "3.  **F1score:**\n",
        "     *   The F1 score is the harmonic mean of precision and recall.\n",
        "\n",
        "     *   It provides a balance between precision and recall, giving a single metric that considers both false positives and false negatives.\n",
        "\n",
        "\n",
        "    F1score=2 * (Precision * Recall)/(Precision + Recall)\n"
      ],
      "metadata": {
        "id": "0FrpxL-Z15xx"
      }
    },
    {
      "cell_type": "code",
      "source": [
        "from sklearn.metrics import precision_score, recall_score, f1_score\n",
        "\n",
        "# Define a function to calculate and display additional metrics\n",
        "def display_additional_metrics(y_true, y_pred, model_name):\n",
        "    precision = precision_score(y_true, y_pred)\n",
        "    recall = recall_score(y_true, y_pred)\n",
        "    f1 = f1_score(y_true, y_pred)\n",
        "\n",
        "    print(f\"\\nAdditional Metrics for {model_name}:\")\n",
        "    print(f\"Precision: {precision:.4f}\")\n",
        "    print(f\"Recall: {recall:.4f}\")\n",
        "    print(f\"F1 Score: {f1:.4f}\")\n",
        "\n",
        "# Display additional metrics for each model\n",
        "display_additional_metrics(y_test, y_pred_lr, 'Logistic Regression')\n",
        "display_additional_metrics(y_test, y_pred_dt, 'Decision Tree')\n",
        "display_additional_metrics(y_test, y_pred_rf, 'Random Forest')\n",
        "display_additional_metrics(y_test, y_pred_svm, 'SVM')\n",
        "display_additional_metrics(y_test, y_pred_knn, 'KNN')\n"
      ],
      "metadata": {
        "colab": {
          "base_uri": "https://localhost:8080/"
        },
        "id": "OeN6mvs-z7Gh",
        "outputId": "1a8978c1-7e5c-460b-de30-9c98e237b13b"
      },
      "execution_count": 33,
      "outputs": [
        {
          "output_type": "stream",
          "name": "stdout",
          "text": [
            "\n",
            "Additional Metrics for Logistic Regression:\n",
            "Precision: 0.7759\n",
            "Recall: 0.8738\n",
            "F1 Score: 0.8219\n",
            "\n",
            "Additional Metrics for Decision Tree:\n",
            "Precision: 1.0000\n",
            "Recall: 0.9709\n",
            "F1 Score: 0.9852\n",
            "\n",
            "Additional Metrics for Random Forest:\n",
            "Precision: 1.0000\n",
            "Recall: 0.9709\n",
            "F1 Score: 0.9852\n",
            "\n",
            "Additional Metrics for SVM:\n",
            "Precision: 0.6581\n",
            "Recall: 0.7476\n",
            "F1 Score: 0.7000\n",
            "\n",
            "Additional Metrics for KNN:\n",
            "Precision: 0.7308\n",
            "Recall: 0.7379\n",
            "F1 Score: 0.7343\n"
          ]
        }
      ]
    },
    {
      "cell_type": "markdown",
      "source": [
        "# **Hyper Tuning**\n",
        "\n",
        " Hyperparameters are configuration settings for a model that are not learned from the data but need to be set before training.\n",
        "\n",
        " Hyperparameter tuning is a valuable step in optimizing the performance of machine learning models, *it's not strictly necessary to perform* it for every algorithm in every project. The decision to conduct hyperparameter tuning depends on various factors, including the nature of the problem, the size of the dataset, and the characteristics of each algorithm.\n",
        "\n",
        " Analysing algorithms we get more accuracy,precision,recall,F1score we got maximum values with *Decision tree* and *Random forest Classifier*.\n",
        "\n",
        " Now we proceed with these two algorithms."
      ],
      "metadata": {
        "id": "lJPuQBfM6rKh"
      }
    },
    {
      "cell_type": "markdown",
      "source": [
        "<font size=5px>Hyper tuning Random forest Classifier</font>"
      ],
      "metadata": {
        "id": "ccV8KRZZ_1QG"
      }
    },
    {
      "cell_type": "markdown",
      "source": [
        "**Grid Search CV:**\n",
        "\n",
        "The GridSearchCV method performs an exhaustive search over the specified hyperparameter grid. As a result, the time it takes depends on the size of the grid *(all combinations to be tried)* and the complexity of the model being tuned."
      ],
      "metadata": {
        "id": "MJRqvI347kXb"
      }
    },
    {
      "cell_type": "code",
      "source": [
        "from sklearn.model_selection import GridSearchCV\n",
        "\n",
        "# Define the hyperparameters to search through\n",
        "param_grid = {\n",
        "    'n_estimators': [50, 100, 150],\n",
        "    'max_depth': [None, 10, 20, 30],\n",
        "    'min_samples_split': [2, 5, 10],\n",
        "    'min_samples_leaf': [1, 2, 4]\n",
        "}\n",
        "\n",
        "# Initialize the Random Forest model\n",
        "rf_model_grid = RandomForestClassifier(random_state=42)\n",
        "\n",
        "# Set up GridSearchCV\n",
        "grid_search = GridSearchCV(estimator=rf_model_grid, param_grid=param_grid, cv=5, scoring='accuracy')\n",
        "\n",
        "# Perform the grid search on the training data\n",
        "grid_search.fit(X_train, y_train)\n",
        "\n",
        "# Get the best hyperparameters\n",
        "best_params_rf_grid = grid_search.best_params_\n",
        "\n",
        "# Train the Random Forest model with the best hyperparameters\n",
        "rf_model_grid = RandomForestClassifier(random_state=42, **best_params_rf_grid)\n",
        "rf_model_grid.fit(X_train, y_train)\n",
        "\n",
        "# Make predictions on the testing data\n",
        "y_pred_rf_tuned_grid = rf_model_grid.predict(X_test)\n",
        "\n",
        "# Evaluate the performance of the tuned Random Forest model\n",
        "accuracy_rf_grid = accuracy_score(y_test, y_pred_rf_tuned_grid)\n",
        "conf_matrix_rf_grid = confusion_matrix(y_test, y_pred_rf_tuned_grid)\n",
        "classification_rep_rf_grid = classification_report(y_test, y_pred_rf_tuned_grid)\n"
      ],
      "metadata": {
        "id": "nkyQktBm485N"
      },
      "execution_count": 84,
      "outputs": []
    },
    {
      "cell_type": "code",
      "source": [
        "# Display the results\n",
        "print(\"Best Hyperparameters:\", best_params_rf_grid)\n",
        "print(\"Classification Report (Tuned Random Forest):\\n\", classification_rep_rf_grid)\n",
        "print(f\"Tuned Random Forest Accuracy:{accuracy_rf_grid:.4f}\")"
      ],
      "metadata": {
        "colab": {
          "base_uri": "https://localhost:8080/"
        },
        "id": "0GDivBJT6Y0j",
        "outputId": "28d106a8-7a94-4f0b-e9c0-b271a98f2703"
      },
      "execution_count": 85,
      "outputs": [
        {
          "output_type": "stream",
          "name": "stdout",
          "text": [
            "Best Hyperparameters: {'max_depth': None, 'min_samples_leaf': 1, 'min_samples_split': 2, 'n_estimators': 50}\n",
            "Classification Report (Tuned Random Forest):\n",
            "               precision    recall  f1-score   support\n",
            "\n",
            "           0       0.97      1.00      0.99       102\n",
            "           1       1.00      0.97      0.99       103\n",
            "\n",
            "    accuracy                           0.99       205\n",
            "   macro avg       0.99      0.99      0.99       205\n",
            "weighted avg       0.99      0.99      0.99       205\n",
            "\n",
            "Tuned Random Forest Accuracy:0.9854\n"
          ]
        }
      ]
    },
    {
      "cell_type": "code",
      "source": [
        "# Create a heatmap for the confusion matrix of the tuned Random Forest\n",
        "plt.figure(figsize=(8, 6))\n",
        "sns.heatmap(conf_matrix_rf_grid, annot=True, fmt='d', cmap='Blues', cbar=False,\n",
        "            xticklabels=['No Disease', 'Heart Disease'],\n",
        "            yticklabels=['No Disease', 'Heart Disease'])\n",
        "plt.title('Confusion Matrix (Grid search Random Forest)')\n",
        "plt.xlabel('Predicted')\n",
        "plt.ylabel('Actual')\n",
        "plt.show()\n"
      ],
      "metadata": {
        "colab": {
          "base_uri": "https://localhost:8080/",
          "height": 564
        },
        "id": "8W8mmXIp6WJ3",
        "outputId": "370cb5fb-4ab7-4eb9-a57d-e4aa7326678b"
      },
      "execution_count": 86,
      "outputs": [
        {
          "output_type": "display_data",
          "data": {
            "text/plain": [
              "<Figure size 800x600 with 1 Axes>"
            ],
            "image/png": "[encoded data removed]"
          },
          "metadata": {}
        }
      ]
    },
    {
      "cell_type": "markdown",
      "source": [
        "**Randomized SearchCV:**\n",
        "\n",
        "Randomized SearchCV is often faster than GridSearchCV, it provides a good chance of finding good hyperparameters without the computational cost of exploring the entire search space. This is particularly beneficial when the hyperparameter search space is large."
      ],
      "metadata": {
        "id": "X7zPj_nA77z0"
      }
    },
    {
      "cell_type": "code",
      "source": [
        "from sklearn.model_selection import RandomizedSearchCV\n",
        "from scipy.stats import randint\n",
        "\n",
        "# Define the hyperparameter distributions to sample from\n",
        "param_dist = {\n",
        "    'n_estimators': randint(50, 150),#randint(50, 150) means n_estimators will be sampled from the range 50 to 150.\n",
        "    'max_depth': [None, 10, 20, 30],\n",
        "    'min_samples_split': randint(2, 10),\n",
        "    'min_samples_leaf': randint(1, 4)\n",
        "}\n",
        "\n",
        "# Initialize the Random Forest model\n",
        "rf_model_random = RandomForestClassifier(random_state=42)\n",
        "\n",
        "# Set up RandomizedSearchCV\n",
        "random_search = RandomizedSearchCV(estimator=rf_model_random, param_distributions=param_dist,\n",
        "                                   n_iter=10, cv=5, scoring='accuracy', random_state=42)\n",
        "\n",
        "# Perform the random search on the training data\n",
        "random_search.fit(X_train, y_train)\n",
        "\n",
        "# Get the best hyperparameters\n",
        "best_params_rf_random = random_search.best_params_\n",
        "\n",
        "# Train the Random Forest model with the best hyperparameters\n",
        "rf_model_random = RandomForestClassifier(random_state=42, **best_params_rf_random)\n",
        "rf_model_random.fit(X_train, y_train)\n",
        "\n",
        "# Make predictions on the testing data\n",
        "y_pred_rf_tuned_random = rf_model_random.predict(X_test)\n",
        "\n",
        "# Evaluate the performance of the Random Search Randomized Forest model\n",
        "accuracy_rf_random = accuracy_score(y_test, y_pred_rf_tuned_random)\n",
        "conf_matrix_rf_random = confusion_matrix(y_test, y_pred_rf_tuned_random)\n",
        "classification_rep_rf_random = classification_report(y_test, y_pred_rf_tuned_random)\n",
        "\n"
      ],
      "metadata": {
        "id": "zXz7FpsF8qjD"
      },
      "execution_count": 87,
      "outputs": []
    },
    {
      "cell_type": "code",
      "source": [
        "# Display the results\n",
        "print(\"\\nBest Hyperparameters (Randomized Search):\", best_params_rf_random)\n",
        "print(\"\\nClassification Report (Randomized Search Random Forest):\\n\", classification_rep_rf_random)\n",
        "print(f\"Randomized Search Random Forest Accuracy:{accuracy_rf_random:.4f}\")"
      ],
      "metadata": {
        "colab": {
          "base_uri": "https://localhost:8080/"
        },
        "id": "xxchYOEv8uhg",
        "outputId": "d5a2d51e-82c0-4c70-e8ab-bee43073cae0"
      },
      "execution_count": 88,
      "outputs": [
        {
          "output_type": "stream",
          "name": "stdout",
          "text": [
            "\n",
            "Best Hyperparameters (Randomized Search): {'max_depth': 30, 'min_samples_leaf': 1, 'min_samples_split': 2, 'n_estimators': 125}\n",
            "\n",
            "Classification Report (Randomized Search Random Forest):\n",
            "               precision    recall  f1-score   support\n",
            "\n",
            "           0       0.97      1.00      0.99       102\n",
            "           1       1.00      0.97      0.99       103\n",
            "\n",
            "    accuracy                           0.99       205\n",
            "   macro avg       0.99      0.99      0.99       205\n",
            "weighted avg       0.99      0.99      0.99       205\n",
            "\n",
            "Randomized Search Random Forest Accuracy:0.9854\n"
          ]
        }
      ]
    },
    {
      "cell_type": "code",
      "source": [
        "# Create a heatmap for the confusion matrix of the Randomized Search Random Forest\n",
        "plt.figure(figsize=(8, 6))\n",
        "sns.heatmap(conf_matrix_rf_random, annot=True, fmt='d', cmap='Blues', cbar=False,\n",
        "            xticklabels=['No Disease', 'Heart Disease'],\n",
        "            yticklabels=['No Disease', 'Heart Disease'])\n",
        "plt.title('Confusion Matrix (Tuned Randomized Search Random Forest)')\n",
        "plt.xlabel('Predicted')\n",
        "plt.ylabel('Actual')\n",
        "plt.show()\n"
      ],
      "metadata": {
        "colab": {
          "base_uri": "https://localhost:8080/",
          "height": 564
        },
        "id": "823nLHlE8sTP",
        "outputId": "f12b70fe-a2e0-49b9-83bb-1cd73932b6f5"
      },
      "execution_count": 89,
      "outputs": [
        {
          "output_type": "display_data",
          "data": {
            "text/plain": [
              "<Figure size 800x600 with 1 Axes>"
            ],
            "image/png": "[encoded data removed]"
          },
          "metadata": {}
        }
      ]
    },
    {
      "cell_type": "markdown",
      "source": [
        "<font size=5px>Hyper tuning Decision Tree</font>"
      ],
      "metadata": {
        "id": "OA99dS30_3De"
      }
    },
    {
      "cell_type": "markdown",
      "source": [
        "**Grid Search CV:**"
      ],
      "metadata": {
        "id": "KZqe4aTtBkhI"
      }
    },
    {
      "cell_type": "code",
      "source": [
        "# Define the hyperparameter grid to search through\n",
        "param_grid_dt = {\n",
        "    'criterion': ['gini', 'entropy'],#'gini' measures impurity using the Gini index, and 'entropy' uses information gain.\n",
        "    'splitter': ['best', 'random'],\n",
        "    'max_depth': [None, 10, 20, 30],\n",
        "    'min_samples_split': [2, 5, 10],\n",
        "    'min_samples_leaf': [1, 2, 4]\n",
        "}\n",
        "\n",
        "# Initialize the Decision Tree model\n",
        "dt_model_grid = DecisionTreeClassifier(random_state=42)\n",
        "\n",
        "# Set up GridSearchCV\n",
        "grid_search_dt = GridSearchCV(estimator=dt_model_grid, param_grid=param_grid_dt,\n",
        "                               cv=5, scoring='accuracy')\n",
        "\n",
        "# Perform the grid search on the training data\n",
        "grid_search_dt.fit(X_train, y_train)\n",
        "\n",
        "# Get the best hyperparameters\n",
        "best_params_dt_grid = grid_search_dt.best_params_\n",
        "\n",
        "# Train the Decision Tree model with the best hyperparameters\n",
        "dt_model_grid = DecisionTreeClassifier(random_state=42, **best_params_dt_grid)\n",
        "dt_model_grid.fit(X_train, y_train)\n",
        "\n",
        "# Make predictions on the testing data\n",
        "y_pred_dt_grid = dt_model_grid.predict(X_test)\n",
        "\n",
        "# Evaluate the performance of the tuned Decision Tree model\n",
        "accuracy_dt_grid = accuracy_score(y_test, y_pred_dt_grid)\n",
        "conf_matrix_dt_grid = confusion_matrix(y_test, y_pred_dt_grid)\n",
        "classification_rep_dt_grid = classification_report(y_test, y_pred_dt_grid)"
      ],
      "metadata": {
        "id": "fi9zIj2UBkIY"
      },
      "execution_count": 90,
      "outputs": []
    },
    {
      "cell_type": "code",
      "source": [
        "# Display the results\n",
        "print(\"\\nBest Hyperparameters (Tuned Decision Tree - GridSearchCV):\", best_params_dt_grid)\n",
        "print(\"\\nClassification Report (Tuned Decision Tree - GridSearchCV):\\n\", classification_rep_dt_grid)\n",
        "print(f\"Tuned Decision Tree (GridSearchCV) Accuracy:{accuracy_dt_grid:.4f}\")"
      ],
      "metadata": {
        "colab": {
          "base_uri": "https://localhost:8080/"
        },
        "id": "qBfaljiWBs2_",
        "outputId": "86fe25ab-cd88-4068-8771-2f73ce548078"
      },
      "execution_count": 91,
      "outputs": [
        {
          "output_type": "stream",
          "name": "stdout",
          "text": [
            "\n",
            "Best Hyperparameters (Tuned Decision Tree - GridSearchCV): {'criterion': 'gini', 'max_depth': None, 'min_samples_leaf': 1, 'min_samples_split': 2, 'splitter': 'best'}\n",
            "\n",
            "Classification Report (Tuned Decision Tree - GridSearchCV):\n",
            "               precision    recall  f1-score   support\n",
            "\n",
            "           0       0.97      1.00      0.99       102\n",
            "           1       1.00      0.97      0.99       103\n",
            "\n",
            "    accuracy                           0.99       205\n",
            "   macro avg       0.99      0.99      0.99       205\n",
            "weighted avg       0.99      0.99      0.99       205\n",
            "\n",
            "Tuned Decision Tree (GridSearchCV) Accuracy:0.9854\n"
          ]
        }
      ]
    },
    {
      "cell_type": "code",
      "source": [
        "# Create a heatmap for the confusion matrix of the tuned Decision Tree\n",
        "plt.figure(figsize=(8, 6))\n",
        "sns.heatmap(conf_matrix_dt_grid, annot=True, fmt='d', cmap='Blues', cbar=False,\n",
        "            xticklabels=['No Disease', 'Heart Disease'],\n",
        "            yticklabels=['No Disease', 'Heart Disease'])\n",
        "plt.title('Confusion Matrix (Tuned Decision Tree - GridSearchCV)')\n",
        "plt.xlabel('Predicted')\n",
        "plt.ylabel('Actual')\n",
        "plt.show()\n"
      ],
      "metadata": {
        "colab": {
          "base_uri": "https://localhost:8080/",
          "height": 564
        },
        "id": "Bxv8iVyNBpHa",
        "outputId": "554428a3-ebac-4aae-dccd-a99b884e2662"
      },
      "execution_count": 92,
      "outputs": [
        {
          "output_type": "display_data",
          "data": {
            "text/plain": [
              "<Figure size 800x600 with 1 Axes>"
            ],
            "image/png": "[encoded data removed]"
          },
          "metadata": {}
        }
      ]
    },
    {
      "cell_type": "markdown",
      "source": [
        "**Randomized SearchCV**"
      ],
      "metadata": {
        "id": "cXwnUUj0IPER"
      }
    },
    {
      "cell_type": "code",
      "source": [
        "# Define the hyperparameter distributions to sample from\n",
        "param_dist_dt = {\n",
        "    'criterion': ['gini', 'entropy'],\n",
        "    'splitter': ['best', 'random'],\n",
        "    'max_depth': [None, 10, 20, 30],\n",
        "    'min_samples_split': randint(2, 10),\n",
        "    'min_samples_leaf': randint(1, 4)\n",
        "}\n",
        "\n",
        "# Initialize the Decision Tree model\n",
        "dt_model_random = DecisionTreeClassifier(random_state=42)\n",
        "\n",
        "# Set up RandomizedSearchCV\n",
        "random_search_dt = RandomizedSearchCV(estimator=dt_model_random, param_distributions=param_dist_dt,\n",
        "                                       n_iter=10, cv=5, scoring='accuracy', random_state=42)\n",
        "\n",
        "# Perform the randomized search on the training data\n",
        "random_search_dt.fit(X_train, y_train)\n",
        "\n",
        "# Get the best hyperparameters\n",
        "best_params_dt_random = random_search_dt.best_params_\n",
        "\n",
        "# Train the Decision Tree model with the best hyperparameters\n",
        "dt_model_random = DecisionTreeClassifier(random_state=42, **best_params_dt_random)\n",
        "dt_model_random.fit(X_train, y_train)\n",
        "\n",
        "# Make predictions on the testing data\n",
        "y_pred_dt_random = dt_model_random.predict(X_test)\n",
        "\n",
        "# Evaluate the performance of the tuned Decision Tree model\n",
        "accuracy_dt_random = accuracy_score(y_test, y_pred_dt_random)\n",
        "conf_matrix_dt_random = confusion_matrix(y_test, y_pred_dt_random)\n",
        "classification_rep_dt_random = classification_report(y_test, y_pred_dt_random)"
      ],
      "metadata": {
        "id": "JClwntUB_3ku"
      },
      "execution_count": 93,
      "outputs": []
    },
    {
      "cell_type": "code",
      "source": [
        "# Display the results\n",
        "print(\"\\nBest Hyperparameters (Tuned Decision Tree):\", best_params_dt_random)\n",
        "print(\"\\nClassification Report (Tuned Decision Tree):\\n\", classification_rep_dt_random)\n",
        "print(f\"Tuned Decision Tree Accuracy:{accuracy_dt_random:.4f}\")"
      ],
      "metadata": {
        "colab": {
          "base_uri": "https://localhost:8080/"
        },
        "id": "pL1bXsxiA1YB",
        "outputId": "16a325b1-e14f-4665-b6d3-cfb320225d0d"
      },
      "execution_count": 94,
      "outputs": [
        {
          "output_type": "stream",
          "name": "stdout",
          "text": [
            "\n",
            "Best Hyperparameters (Tuned Decision Tree): {'criterion': 'entropy', 'max_depth': 30, 'min_samples_leaf': 1, 'min_samples_split': 2, 'splitter': 'random'}\n",
            "\n",
            "Classification Report (Tuned Decision Tree):\n",
            "               precision    recall  f1-score   support\n",
            "\n",
            "           0       0.97      1.00      0.99       102\n",
            "           1       1.00      0.97      0.99       103\n",
            "\n",
            "    accuracy                           0.99       205\n",
            "   macro avg       0.99      0.99      0.99       205\n",
            "weighted avg       0.99      0.99      0.99       205\n",
            "\n",
            "Tuned Decision Tree Accuracy:0.9854\n"
          ]
        }
      ]
    },
    {
      "cell_type": "code",
      "source": [
        "# Create a heatmap for the confusion matrix of the tuned Decision Tree\n",
        "plt.figure(figsize=(8, 6))\n",
        "sns.heatmap(conf_matrix_dt_random, annot=True, fmt='d', cmap='Blues', cbar=False,\n",
        "            xticklabels=['No Disease', 'Heart Disease'],\n",
        "            yticklabels=['No Disease', 'Heart Disease'])\n",
        "plt.title('Confusion Matrix (Tuned Decision Tree-Randomized SearchCV)')\n",
        "plt.xlabel('Predicted')\n",
        "plt.ylabel('Actual')\n",
        "plt.show()\n"
      ],
      "metadata": {
        "colab": {
          "base_uri": "https://localhost:8080/",
          "height": 564
        },
        "id": "Pd4xSXr6A0gH",
        "outputId": "39520511-10f7-4abd-aaec-ffe9f141c8bc"
      },
      "execution_count": 95,
      "outputs": [
        {
          "output_type": "display_data",
          "data": {
            "text/plain": [
              "<Figure size 800x600 with 1 Axes>"
            ],
            "image/png": "[encoded data removed]"
          },
          "metadata": {}
        }
      ]
    },
    {
      "cell_type": "code",
      "source": [
        "print(f\"Tuned Decision Tree Accuracy randomized search:{accuracy_dt_random:.4f}\")\n",
        "print(f\"Tuned Decision Tree Accuracy grid search:{accuracy_dt_grid:.4f}\")\n",
        "print(f\"Tuned Random forest Accuracy randomized search:{accuracy_rf_random:.4f}\")\n",
        "print(f\"Tuned Random forest Accuracy grid search:{accuracy_rf_grid:.4f}\")"
      ],
      "metadata": {
        "colab": {
          "base_uri": "https://localhost:8080/"
        },
        "id": "hC5pUcROL6zE",
        "outputId": "6463ba7a-f823-406e-a257-50fc74606f02"
      },
      "execution_count": 96,
      "outputs": [
        {
          "output_type": "stream",
          "name": "stdout",
          "text": [
            "Tuned Decision Tree Accuracy randomized search:0.9854\n",
            "Tuned Decision Tree Accuracy grid search:0.9854\n",
            "Tuned Random forest Accuracy randomized search:0.9854\n",
            "Tuned Random forest Accuracy grid search:0.9854\n"
          ]
        }
      ]
    }
  ],
  "metadata": {
    "colab": {
      "provenance": [],
      "toc_visible": true,
      "mount_file_id": "1g8RSH0Kn6u8BWI4bUfIS4UvagR1r60jo",
      "authorship_tag": "ABX9TyNTeIuKKCM5YEHfiC5ET11R",
      "include_colab_link": true
    },
    "kernelspec": {
      "display_name": "Python 3",
      "name": "python3"
    },
    "language_info": {
      "name": "python"
    }
  },
  "nbformat": 4,
  "nbformat_minor": 0
}